{
 "cells": [
  {
   "cell_type": "code",
   "execution_count": 1,
   "id": "683bb50d",
   "metadata": {},
   "outputs": [
    {
     "name": "stdout",
     "output_type": "stream",
     "text": [
      "Ok\n"
     ]
    }
   ],
   "source": [
    "print(\"Ok\")"
   ]
  },
  {
   "cell_type": "code",
   "execution_count": 2,
   "id": "8ceeb3e0",
   "metadata": {},
   "outputs": [
    {
     "data": {
      "text/plain": [
       "'c:\\\\Users\\\\prasa\\\\Downloads\\\\End-to-end-Medical-Chatbot-Generative-AI\\\\research'"
      ]
     },
     "execution_count": 2,
     "metadata": {},
     "output_type": "execute_result"
    }
   ],
   "source": [
    "%pwd"
   ]
  },
  {
   "cell_type": "code",
   "execution_count": 3,
   "id": "bf27f933",
   "metadata": {},
   "outputs": [],
   "source": [
    "import os\n",
    "os.chdir(\"../\")"
   ]
  },
  {
   "cell_type": "code",
   "execution_count": 4,
   "id": "5d2544cc",
   "metadata": {},
   "outputs": [
    {
     "data": {
      "text/plain": [
       "'c:\\\\Users\\\\prasa\\\\Downloads\\\\End-to-end-Medical-Chatbot-Generative-AI'"
      ]
     },
     "execution_count": 4,
     "metadata": {},
     "output_type": "execute_result"
    }
   ],
   "source": [
    "%pwd"
   ]
  },
  {
   "cell_type": "code",
   "execution_count": 5,
   "id": "5b273a07",
   "metadata": {},
   "outputs": [],
   "source": [
    "from langchain.document_loaders import PyPDFLoader, DirectoryLoader\n",
    "from langchain.text_splitter import RecursiveCharacterTextSplitter"
   ]
  },
  {
   "cell_type": "code",
   "execution_count": 6,
   "id": "3f64b420",
   "metadata": {},
   "outputs": [],
   "source": [
    "#Extract Data From the PDF File\n",
    "\n",
    "def load_pdf_file(data):\n",
    "    loader= DirectoryLoader(data,\n",
    "                            glob=\"*.pdf\",\n",
    "                            loader_cls=PyPDFLoader)\n",
    "    \n",
    "    documents=loader.load()\n",
    "\n",
    "    return documents"
   ]
  },
  {
   "cell_type": "code",
   "execution_count": 7,
   "id": "012b033a",
   "metadata": {},
   "outputs": [],
   "source": [
    "extracted_data=load_pdf_file(data='Data/')"
   ]
  },
  {
   "cell_type": "code",
   "execution_count": 9,
   "id": "e3653593",
   "metadata": {},
   "outputs": [],
   "source": [
    "# extracted_data"
   ]
  },
  {
   "cell_type": "code",
   "execution_count": 10,
   "id": "d931d69d",
   "metadata": {},
   "outputs": [],
   "source": [
    "# Split the data into text chunks\n",
    "\n",
    "def text_split(extracted_data):\n",
    "    text_splitter=RecursiveCharacterTextSplitter(chunk_size=500,chunk_overlap=20)\n",
    "    text_chunks=text_splitter.split_documents(extracted_data)\n",
    "    return text_chunks"
   ]
  },
  {
   "cell_type": "code",
   "execution_count": 11,
   "id": "a0061506",
   "metadata": {},
   "outputs": [
    {
     "name": "stdout",
     "output_type": "stream",
     "text": [
      "Length of text chunks 5773\n"
     ]
    }
   ],
   "source": [
    "text_chunks=text_split(extracted_data)\n",
    "print(\"Length of text chunks\", len(text_chunks))"
   ]
  },
  {
   "cell_type": "code",
   "execution_count": 23,
   "id": "4cced6e9",
   "metadata": {},
   "outputs": [],
   "source": [
    "from langchain.embeddings import HuggingFaceEmbeddings"
   ]
  },
  {
   "cell_type": "code",
   "execution_count": 24,
   "id": "13b1ea0c",
   "metadata": {},
   "outputs": [],
   "source": [
    "def download_hugging_face_embeddings():\n",
    "    embeddings=HuggingFaceEmbeddings(model_name='sentence-transformers/all-MiniLM-L6-v2')\n",
    "    return embeddings"
   ]
  },
  {
   "cell_type": "code",
   "execution_count": 27,
   "id": "3aefcb11",
   "metadata": {},
   "outputs": [
    {
     "name": "stderr",
     "output_type": "stream",
     "text": [
      "c:\\Users\\prasa\\anaconda3\\envs\\medibot\\lib\\site-packages\\huggingface_hub\\file_download.py:143: UserWarning: `huggingface_hub` cache-system uses symlinks by default to efficiently store duplicated files but your machine does not support them in C:\\Users\\prasa\\.cache\\huggingface\\hub\\models--sentence-transformers--all-MiniLM-L6-v2. Caching files will still work but in a degraded version that might require more space on your disk. This warning can be disabled by setting the `HF_HUB_DISABLE_SYMLINKS_WARNING` environment variable. For more details, see https://huggingface.co/docs/huggingface_hub/how-to-cache#limitations.\n",
      "To support symlinks on Windows, you either need to activate Developer Mode or to run Python as an administrator. In order to activate developer mode, see this article: https://docs.microsoft.com/en-us/windows/apps/get-started/enable-your-device-for-development\n",
      "  warnings.warn(message)\n",
      "Xet Storage is enabled for this repo, but the 'hf_xet' package is not installed. Falling back to regular HTTP download. For better performance, install the package with: `pip install huggingface_hub[hf_xet]` or `pip install hf_xet`\n"
     ]
    }
   ],
   "source": [
    "\n",
    "embeddings = download_hugging_face_embeddings()"
   ]
  },
  {
   "cell_type": "code",
   "execution_count": 28,
   "id": "904ed53c",
   "metadata": {},
   "outputs": [
    {
     "name": "stdout",
     "output_type": "stream",
     "text": [
      "Length 384\n"
     ]
    }
   ],
   "source": [
    "query_result = embeddings.embed_query(\"Hello world\")\n",
    "print(\"Length\", len(query_result))"
   ]
  },
  {
   "cell_type": "code",
   "execution_count": 30,
   "id": "ac6f2b8d",
   "metadata": {},
   "outputs": [],
   "source": [
    "#query_result"
   ]
  },
  {
   "cell_type": "code",
   "execution_count": 76,
   "id": "84d0f7b6",
   "metadata": {},
   "outputs": [],
   "source": [
    "import os \n",
    "os.environ[\"PINECONE_API_KEY\"] = \"pcsk_2LhY5f_TRfueAJgY75j27pWMaBFW5oK6R4yvQCJjseEtT2YgwknPwa7KP3mVY62QySzZSX\"\n",
    "os.environ[\"COHERE_API_KEY\"] = \"36laOXHGcG9rxjNqgqyWTWvLVOPXs4GU3PAA9J7n\""
   ]
  },
  {
   "cell_type": "code",
   "execution_count": 50,
   "id": "6784bb6f",
   "metadata": {},
   "outputs": [],
   "source": [
    "#Embed each chunk and upsert the embeddings into Pinecone index.\n",
    "\n",
    "from langchain_pinecone import PineconeVectorStore\n",
    "\n",
    "docsearch = PineconeVectorStore.from_documents(\n",
    "    documents=text_chunks,\n",
    "    index_name=\"test\",\n",
    "    embedding=embeddings,\n",
    ")"
   ]
  },
  {
   "cell_type": "code",
   "execution_count": 51,
   "id": "144fc7e2",
   "metadata": {},
   "outputs": [],
   "source": [
    "#Load Existing index\n",
    "\n",
    "from langchain_pinecone import PineconeVectorStore\n",
    "\n",
    "docsearch = PineconeVectorStore.from_existing_index(\n",
    "    index_name=\"test\",\n",
    "    embedding=embeddings \n",
    ")\n"
   ]
  },
  {
   "cell_type": "code",
   "execution_count": 52,
   "id": "9785580c",
   "metadata": {},
   "outputs": [
    {
     "data": {
      "text/plain": [
       "<langchain_pinecone.vectorstores.PineconeVectorStore at 0x2ceaf2b1780>"
      ]
     },
     "execution_count": 52,
     "metadata": {},
     "output_type": "execute_result"
    }
   ],
   "source": [
    "docsearch"
   ]
  },
  {
   "cell_type": "code",
   "execution_count": 62,
   "id": "6ce13ea7",
   "metadata": {},
   "outputs": [],
   "source": [
    "retriever = docsearch.as_retriever(search_type=\"similarity\",search_kwargs={\"k\":3})"
   ]
  },
  {
   "cell_type": "code",
   "execution_count": 63,
   "id": "cec167e5",
   "metadata": {},
   "outputs": [],
   "source": [
    "retrieved_docs = retriever.invoke(\"What is Acne?\")"
   ]
  },
  {
   "cell_type": "code",
   "execution_count": 64,
   "id": "772f8051",
   "metadata": {},
   "outputs": [
    {
     "data": {
      "text/plain": [
       "[Document(id='e2e59d48-1ed0-465d-9868-c22c31e1252b', metadata={'creationdate': '2004-12-28T15:13:17-05:00', 'creator': 'PyPDF', 'moddate': '2004-12-28T14:23:27-06:00', 'page': 21.0, 'page_label': '22', 'producer': 'PDFlib+PDI 5.0.0 (SunOS)', 'source': 'Data\\\\Gale Encyclopedia of Alternative Medicine, 2nd Edition. Vol. 1, A-C.pdf', 'total_pages': 602.0}, page_content='GALE ENCYCLOPEDIA OF ALTERNATIVE MEDICINE 2 5\\nAcne\\nAcne vulgaris affecting a woman’s face. Acne is the general\\nname given to a skin disorder in which the sebaceous\\nglands become inflamed. (Photograph by Biophoto Associ-\\nates, Photo Researchers, Inc. Reproduced by permission.)\\nAcne\\nDefinition\\nAcne is a common inflammatory skin disease char-\\nacterized by pimples on the face, chest, and back. It oc-\\ncurs when the pores of the skin become clogged with oil,\\ndead skin cells, and/or bacteria.'),\n",
       " Document(id='02999782-4643-4188-b974-6f4407440efd', metadata={'creationdate': '2004-12-28T15:13:17-05:00', 'creator': 'PyPDF', 'moddate': '2004-12-28T14:23:27-06:00', 'page': 21.0, 'page_label': '22', 'producer': 'PDFlib+PDI 5.0.0 (SunOS)', 'source': 'Data\\\\Gale Encyclopedia of Alternative Medicine, 2nd Edition. Vol. 1, A-C.pdf', 'total_pages': 602.0}, page_content='GALE ENCYCLOPEDIA OF ALTERNATIVE MEDICINE 2 5\\nAcne\\nAcne vulgaris affecting a woman’s face. Acne is the general\\nname given to a skin disorder in which the sebaceous\\nglands become inflamed. (Photograph by Biophoto Associ-\\nates, Photo Researchers, Inc. Reproduced by permission.)\\nAcne\\nDefinition\\nAcne is a common inflammatory skin disease char-\\nacterized by pimples on the face, chest, and back. It oc-\\ncurs when the pores of the skin become clogged with oil,\\ndead skin cells, and/or bacteria.'),\n",
       " Document(id='3abf0d1e-8209-4202-b677-ec404b5058c0', metadata={'creationdate': '2004-12-28T15:13:17-05:00', 'creator': 'PyPDF', 'moddate': '2004-12-28T14:23:27-06:00', 'page': 225.0, 'page_label': '226', 'producer': 'PDFlib+PDI 5.0.0 (SunOS)', 'source': 'Data\\\\Gale Encyclopedia of Alternative Medicine, 2nd Edition. Vol. 1, A-C.pdf', 'total_pages': 602.0}, page_content='Acne therapy\\nAcne is a skin disorder caused by excessive produc-\\ntion of oil under the uppermost layers of skin. When the\\noil cannot pass through the hair follicles, the pores under\\nthe skin are plugged up, trapping the oil and dead skin\\ncells underneath the skin. These plugged pores become\\nfertile breeding grounds for a type of bacterium called\\nPropionibacterium acnes , sometimes called the acne\\nbacillus, to grow inside the pore, causing irritation, in-\\nflammation, and in due time, pimples.')]"
      ]
     },
     "execution_count": 64,
     "metadata": {},
     "output_type": "execute_result"
    }
   ],
   "source": [
    "retrieved_docs\n"
   ]
  },
  {
   "cell_type": "code",
   "execution_count": 78,
   "id": "f8ae7e8d",
   "metadata": {},
   "outputs": [],
   "source": [
    "from langchain_openai import OpenAI\n",
    "llm = OpenAI(temperature=0.4, max_tokens=500)"
   ]
  },
  {
   "cell_type": "code",
   "execution_count": 79,
   "id": "a13836ca",
   "metadata": {},
   "outputs": [],
   "source": [
    "from langchain.chains import create_retrieval_chain\n",
    "from langchain.chains.combine_documents import create_stuff_documents_chain\n",
    "from langchain_core.prompts import ChatPromptTemplate\n",
    "\n",
    "\n",
    "system_prompt = (\n",
    "    \"You are an assistant for question-answering tasks. \"\n",
    "    \"Use the following pieces of retrieved context to answer \"\n",
    "    \"the question. If you don't know the answer, say that you \"\n",
    "    \"don't know. Use three sentences maximum and keep the \"\n",
    "    \"answer concise.\"\n",
    "    \"\\n\\n\"\n",
    "    \"{context}\"\n",
    ")\n",
    "\n",
    "\n",
    "prompt = ChatPromptTemplate.from_messages(\n",
    "    [\n",
    "        (\"system\",system_prompt),\n",
    "        (\"human\",\"{input}\")\n",
    "    ]\n",
    ")"
   ]
  },
  {
   "cell_type": "code",
   "execution_count": 80,
   "id": "6b2ba2fb",
   "metadata": {},
   "outputs": [],
   "source": [
    "question_answer_chain = create_stuff_documents_chain(llm,prompt)\n",
    "rag_chain = create_retrieval_chain(retriever, question_answer_chain)"
   ]
  },
  {
   "cell_type": "code",
   "execution_count": 85,
   "id": "770f3c28",
   "metadata": {},
   "outputs": [
    {
     "name": "stdout",
     "output_type": "stream",
     "text": [
      "Acne is a skin disorder that causes inflammation of the sebaceous glands. It commonly appears as pimples on the face, chest and back, but can also affect other areas of the body. It occurs when the pores of the skin become blocked by oil, dead skin cells and/or bacteria, leading to irritation and inflammation. This condition is often referred to as acne vulgaris.\n"
     ]
    }
   ],
   "source": [
    "from langchain_cohere import ChatCohere\n",
    "from langchain.chains import RetrievalQA\n",
    "\n",
    "# Set your Cohere API key\n",
    "import os\n",
    "os.environ[\"COHERE_API_KEY\"] = \"36laOXHGcG9rxjNqgqyWTWvLVOPXs4GU3PAA9J7n\"\n",
    "\n",
    "# Initialize Cohere LLM\n",
    "llm = ChatCohere(model=\"command-r\")   # \"command-r\" or \"command-light\"\n",
    "\n",
    "# Build RAG chain with your retriever/vectorstore\n",
    "rag_chain = RetrievalQA.from_chain_type(\n",
    "    llm=llm,\n",
    "    retriever=docsearch.as_retriever(),\n",
    "    chain_type=\"stuff\"\n",
    ")\n",
    "\n",
    "# Ask a question\n",
    "response = rag_chain.invoke({\"query\": \"What is Acne?\"})\n",
    "print(response[\"result\"])\n"
   ]
  },
  {
   "cell_type": "code",
   "execution_count": 86,
   "id": "d36d90fa",
   "metadata": {},
   "outputs": [
    {
     "name": "stdout",
     "output_type": "stream",
     "text": [
      "Mild acne can be treated with over-the-counter medications containing ingredients like benzoyl peroxide, salicylic acid, sulfur, or resorcinol. These can help reduce the formation of new comedones. More severe cases of acne require prescription medications supervised by a doctor, such as comedolytics (which unclog pores), antibiotics (for up to three months), or isotretinoin, a powerful drug reserved for severe cases. Isotretinoin can be very effective, but it requires caution for women who may become pregnant.\n"
     ]
    }
   ],
   "source": [
    "response = rag_chain.invoke({\"query\": \"What is the treatment for acne?\"})\n",
    "print(response[\"result\"])"
   ]
  },
  {
   "cell_type": "code",
   "execution_count": 87,
   "id": "d06570fa",
   "metadata": {},
   "outputs": [
    {
     "name": "stdout",
     "output_type": "stream",
     "text": [
      "A pimple is a small inflamed bump on the skin, it occurs when the pores of the skin become clogged with oil, dead skin cells, and/or bacteria. Pimples are often associated with acne and usually appear on the face, chest, and back.\n"
     ]
    }
   ],
   "source": [
    "response = rag_chain.invoke({\"query\": \"What is pimple?\"})\n",
    "print(response[\"result\"])"
   ]
  },
  {
   "cell_type": "code",
   "execution_count": 88,
   "id": "545c10f3",
   "metadata": {},
   "outputs": [
    {
     "name": "stdout",
     "output_type": "stream",
     "text": [
      "Inflammation is the body's response to infection or injury. It is a natural process that occurs when the body's immune system tries to protect itself from harm. During inflammation, the body's immune cells and proteins are activated and rush to the site of injury or infection. This results in the classic signs of inflammation: redness, heat, swelling, and loss of function. \n",
      "\n",
      "The purpose of inflammation is to eliminate the causative agent, clear out dead and damaged tissue, and initiate tissue repair. It's a crucial part of the body's healing process. However, it can also be a complex process that can sometimes cause damage if it's not properly controlled. Different types of inflammation exist, ranging from acute inflammation that lasts for a few days to chronic inflammation that can persist for months or even years.\n"
     ]
    }
   ],
   "source": [
    "response = rag_chain.invoke({\"query\": \"What is inflamation?\"})\n",
    "print(response[\"result\"])"
   ]
  }
 ],
 "metadata": {
  "kernelspec": {
   "display_name": "medibot",
   "language": "python",
   "name": "python3"
  },
  "language_info": {
   "codemirror_mode": {
    "name": "ipython",
    "version": 3
   },
   "file_extension": ".py",
   "mimetype": "text/x-python",
   "name": "python",
   "nbconvert_exporter": "python",
   "pygments_lexer": "ipython3",
   "version": "3.10.18"
  }
 },
 "nbformat": 4,
 "nbformat_minor": 5
}
